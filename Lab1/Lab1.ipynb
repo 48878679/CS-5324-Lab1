{
 "cells": [
  {
   "cell_type": "markdown",
   "id": "a38d5d8e-e473-4c82-aa5d-8b2159409229",
   "metadata": {},
   "source": [
    "# Names: Hailey DeMark, Deborah Park, Karis Park\n",
    "# StudentIDs: --- , 48878679, ---"
   ]
  },
  {
   "cell_type": "markdown",
   "id": "c4e1a489-be12-4e15-85f9-1e1d99248c10",
   "metadata": {},
   "source": [
    "# Business Understanding \n",
    "## In your own words, give an overview of the dataset. Describe the purpose of the data set you selected (i.e., why and how was this data collected in the first place?). What is the prediction task for your data and why are other third parties interested in the result? Once you begin modeling, how well would your prediction algorithm need to perform to be considered useful to these third parties?\n",
    "\n",
    "### Answer Goes Here"
   ]
  },
  {
   "cell_type": "markdown",
   "id": "919fa92b-9ea4-492d-9f78-c0a2886b2b74",
   "metadata": {},
   "source": [
    "# Data Understanding\n",
    "## Load the dataset and appropriately define data types. What data type should be used to represent each data attribute? Discuss the attributes collected in the dataset. For datasets with a large number of attributes, only discuss a subset of relevant attributes.  \n",
    "### **Variable/Type**\n",
    "- **Diabetes_binary / Binary**\n",
    "  - 0 = no deabetes\n",
    "  - 1 = prediabetes or diabetes\n",
    "- **HighBP / Binary**\n",
    "  - 0 = no high BP\n",
    "  - 1 = high BP\n",
    "- **HighChol / Binary**\n",
    "  - 0 = no high cholesterol\n",
    "  - 1 = high cholesterol\n",
    "- **CholCheck / Binary**\n",
    "  - 0 = no cholesterol check in 5 years\n",
    "  - 1 = yes cholesterol check in 5 years\n",
    "- **BMI / Integer**\n",
    "  - Body Mass Index\n",
    "- **Smoker / Binary**\n",
    "  - Have you smoked at least 100 cigarettes in your entire life\n",
    "  - 0 = no\n",
    "  - 1 = yes\n",
    "- **Stroke / Binary**\n",
    "  - Even told you had a stoke\n",
    "  - 0 = no\n",
    "  - 1 = yes\n",
    "- **HeartDiseaseorAttack / Binary**\n",
    "  - Coronary hear disease (CHS) or myocardial infarction (MI)\n",
    "  - 0 = no\n",
    "  - 1 = yes\n",
    "- **PhysActivity / Binary**\n",
    "  - Physical actibity in past 30 days - not including job\n",
    "  - 0 = no\n",
    "  - 1 = yes\n",
    "- **Fruits / Binary**\n",
    "  - Consume fruit 1 or more times per day\n",
    "  - 0 = no\n",
    "  - 1 = yes\n",
    "- **Veggies / Binary**\n",
    "  - Consume vegetables 1 or more times per day\n",
    "  - 0 = no\n",
    "  - 1 = yes\n",
    "- **HvyAlcoholConsump / Binary**\n",
    "  - Heavy drinkers (adult men having more than 14 drinks per week and adult women having more than 7 drinks per week)\n",
    "  - 0 = no\n",
    "  - 1 = yes\n",
    "- **AnyHealthcare**\n",
    "  - Have any kind of health care converage, including health insurance, prepain plans such as HMO, etc.\n",
    "  - 0 = no\n",
    "  - 1 = yes\n",
    "- **NoDocbcCost / Binary**\n",
    "  - Was there a time in the past 12 months when you needed to see a doctor but could not because of cost?\n",
    "  - 0 = no\n",
    "  - 1 = yes\n",
    "- **GenHlth / Categorical**\n",
    "  - Would you say that in general your health is: scale 1-5\n",
    "  - 1 = excellent\n",
    "  - 2 = very good\n",
    "  - 3 = good\n",
    "  - 4 = fair\n",
    "  - 5 = poor\n",
    "- **MentHlth / Integer**\n",
    "  - Now thinkning about your mental health, which includes stress, depression, and problems with emotions, for how many days during the past 30 days was your mental health not good?\n",
    "  - Scale 1-30 days\n",
    "- **PhysHlth / Integer**\n",
    "  - Now thinking about year physical health, which includes physical illness and injury, for how many days during the past 30 days was your physical health not good?\n",
    "  - Scale 1-30 days\n",
    "- **DiffWalk / Binary**\n",
    "  - Do you have serious difficulty walking or climbing stairs?\n",
    "  - 0 = no\n",
    "  - 1 = yes\n",
    "- **Sex / Binary**\n",
    "  - 0 = female\n",
    "  - 1 = male\n",
    "- **Age / Categorical**\n",
    "  - 13-level age category\n",
    "  - 1 = 18-24\n",
    "  - 9 = 60-64\n",
    "  - 13 = 80 or older\n",
    "- **Education / Categorical**\n",
    "  - Education level scale 1-6\n",
    "  - 1 = never attended school or only kindergardon\n",
    "  - 2 = grades 1 through 8 (elementary)\n",
    "  - 3 = grades 9 through 11 (some high school)\n",
    "  - 4 = grades 12 or GED (high school graduate)\n",
    "  - 5 = college 1 year to 3 years (some college or technical school)\n",
    "  - 6 = college 4 yeas or more (college graduate)\n",
    "- **Income / Integer**\n",
    "- Income scale 1–8\n",
    "  - 1 = less than \\$10,000\n",
    "  - 5 = less than \\$35,000\n",
    "  - 8 = \\$75,000 or more\n",
    "\n",
    "## Verify data quality: Explain any missing values or duplicate data. Visualize entries that are missing/complete for different attributes. Are those mistakes? Why do these quality issues exist in the data? How do you deal with these problems? Give justifications for your methods (elimination or imputation).  \n",
    "\n",
    "### Answer Goes Here "
   ]
  },
  {
   "cell_type": "code",
   "execution_count": null,
   "id": "d1607c6d",
   "metadata": {},
   "outputs": [],
   "source": [
    "# import libraries\n",
    "import numpy as np\n",
    "import matplotlib\n",
    "import matplotlib.pyplot as plt\n",
    "\n",
    "import pandas as pd\n",
    "import seaborn as sns"
   ]
  },
  {
   "cell_type": "code",
   "execution_count": null,
   "id": "51ffc3fb",
   "metadata": {},
   "outputs": [],
   "source": [
    "# load dataset\n",
    "df = pd.read_csv(\"./diabetes_binary_health_indicators_BRFSS2015.csv\")\n",
    "df_copy = df\n",
    "df"
   ]
  },
  {
   "cell_type": "code",
   "execution_count": null,
   "id": "7e662e38",
   "metadata": {},
   "outputs": [],
   "source": [
    "df_copy.describe()"
   ]
  },
  {
   "cell_type": "code",
   "execution_count": null,
   "id": "354289e6",
   "metadata": {},
   "outputs": [],
   "source": [
    "print(df_copy.dtypes)\n",
    "print('===========')\n",
    "print(df_copy.info())"
   ]
  },
  {
   "cell_type": "code",
   "execution_count": null,
   "id": "596a40da",
   "metadata": {},
   "outputs": [],
   "source": [
    "# check for any null/nan values\n",
    "df_copy.isnull().values.any()"
   ]
  },
  {
   "cell_type": "code",
   "execution_count": null,
   "id": "070f6b13",
   "metadata": {},
   "outputs": [],
   "source": [
    "# create correlation matrix\n",
    "cm = df_copy.corr()\n",
    "plt.figure(figsize=(12, 10))\n",
    "sns.heatmap(cm, annot=True, cmap=\"coolwarm\", fmt=\".2f\")"
   ]
  },
  {
   "cell_type": "markdown",
   "id": "465a7bcd-65c0-41e8-a44b-2125a9ce2e0e",
   "metadata": {},
   "source": [
    "# Data Visualization \n",
    "## Visualize basic feature distributions. That is, plot the dynamic range and exploratory distribution plots (like boxplots, histograms, kernel density estimation) to better understand the data. Describe anything meaningful or potentially useful you discover from these visualizations. These may also help to understand what data is missing or needs imputation. Note: You can also use data from other sources to bolster visualizations. Visualize at least five plots, at least one categorical. "
   ]
  },
  {
   "cell_type": "code",
   "execution_count": 26,
   "id": "93adcd10-e429-4ceb-9220-7af7eb5b1ab8",
   "metadata": {},
   "outputs": [],
   "source": [
    "# room for codes"
   ]
  },
  {
   "cell_type": "markdown",
   "id": "20453243-0563-4b46-a75d-a9bd75fe7419",
   "metadata": {},
   "source": [
    "## Ask three interesting questions that are relevant to your dataset and explore visuals that help answer these questions. Use whichever visualization method is appropriate for your data.  Important: Interpret the implications for each visualization. \n",
    "### Answer Goes Here"
   ]
  },
  {
   "cell_type": "markdown",
   "id": "9e691efc-b7cf-4186-a4e5-3df06ce673ca",
   "metadata": {},
   "source": [
    "# Exceptional Work\n",
    "## The overall quality of the report as a coherent, useful, and polished product will be reflected here. Does it make sense overall? Do your visualizations answer the questions you put forth in your business analysis? Do you properly and consistently cite sources and annotate changes made to base code? Do you provide specific reasons for your assumptions? Do subsequent questions follow naturally from initial exploration?\n",
    "\n",
    "### Answer GOes Here\n",
    "\n",
    "## Additional analysis"
   ]
  },
  {
   "cell_type": "code",
   "execution_count": 37,
   "id": "1a7fd3e6-9731-4391-a2b4-e0b105d11c6e",
   "metadata": {},
   "outputs": [],
   "source": [
    "# room for code"
   ]
  },
  {
   "cell_type": "markdown",
   "id": "1dd5b1e6-636e-498c-b27c-b6f6e30ef778",
   "metadata": {},
   "source": [
    "### Analyzation goes here"
   ]
  }
 ],
 "metadata": {
  "kernelspec": {
   "display_name": "Python 3 (ipykernel)",
   "language": "python",
   "name": "python3"
  },
  "language_info": {
   "codemirror_mode": {
    "name": "ipython",
    "version": 3
   },
   "file_extension": ".py",
   "mimetype": "text/x-python",
   "name": "python",
   "nbconvert_exporter": "python",
   "pygments_lexer": "ipython3",
   "version": "3.12.4"
  }
 },
 "nbformat": 4,
 "nbformat_minor": 5
}
